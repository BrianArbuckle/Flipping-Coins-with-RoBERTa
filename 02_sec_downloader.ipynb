{
 "cells": [
  {
   "cell_type": "code",
   "execution_count": 1,
   "id": "bronze-affairs",
   "metadata": {},
   "outputs": [],
   "source": [
    "__author__ = \"Brian Arbuckle, Benu Atri and Paras Jamil\"\n",
    "__version__ = \"CS224u, Final Project 2021 v1\"\n",
    "__updated__ = \"Mar 26, 2021, 11pm CST\""
   ]
  },
  {
   "cell_type": "markdown",
   "id": "warming-breakfast",
   "metadata": {},
   "source": [
    "# SEC DATA DOWNLOADING\n",
    "\n",
    "This notebook will collect, clean, and process all the stock data and their reports for use in the Experiment Notebook.\n",
    "\n",
    "Before experimentation, this notebook should only need to be run once and is only used to create the experiment's final cleaned datasets.\n",
    "\n",
    "***Note: The package utils provides the main functions of this notebook.***"
   ]
  },
  {
   "cell_type": "markdown",
   "id": "varied-scheduling",
   "metadata": {},
   "source": [
    "## Contents\n",
    "\n",
    "1. [Overview](#Overview)\n",
    "1. [Packages](#Packages)\n",
    "1. [Constants / Defaults](#Constants)\n",
    "1. [NASDAQ 100 - Labeled Data & Downloader](#NASDAQ)\n"
   ]
  },
  {
   "cell_type": "markdown",
   "id": "foreign-tribune",
   "metadata": {},
   "source": [
    "<a id=\"Overview\"></a>\n",
    "\n",
    "## Overview"
   ]
  },
  {
   "cell_type": "markdown",
   "id": "technological-liver",
   "metadata": {},
   "source": [
    "<a id=\"Packages\"></a>\n",
    "### Packages\n",
    "\n",
    "You may need uncomment below to pip install packages:"
   ]
  },
  {
   "cell_type": "code",
   "execution_count": 2,
   "id": "declared-stations",
   "metadata": {},
   "outputs": [],
   "source": [
    "# !pip3 install -U sec-edgar-downloader\n"
   ]
  },
  {
   "cell_type": "code",
   "execution_count": 3,
   "id": "actual-emphasis",
   "metadata": {},
   "outputs": [],
   "source": [
    "import os\n",
    "\n",
    "import pandas as pd\n",
    "import numpy as np\n",
    "\n",
    "import datetime as dt\n",
    "\n",
    "from sec_edgar_downloader import Downloader\n"
   ]
  },
  {
   "cell_type": "markdown",
   "id": "genuine-afternoon",
   "metadata": {},
   "source": [
    "<a id=\"Constants\"></a>\n",
    "\n",
    "## Constants / Defaults / Globals\n",
    "\n",
    "When the `FULL_DATASET` variable is set to False, the notebook will work with the Toy Dataset.<br>\n",
    "When the `FULL_DATASET` variable is set to True, the notebook will work with the Full Dataset.<br>\n",
    "When the `DOWNLOAD_FROM_SEC` variable is set to True, the notebook will download the filings for the `FULL_DATASET` variable."
   ]
  },
  {
   "cell_type": "code",
   "execution_count": 14,
   "id": "greater-motion",
   "metadata": {},
   "outputs": [],
   "source": [
    "FULL_DATASET = True\n",
    "PICKLES = 'pickle_data/'\n",
    "DATA = 'data'\n",
    "\n",
    "\n",
    "# GLOBAL START AND END:\n",
    "START = '2016-01-01'\n",
    "END = '2021-03-01'\n",
    "\n",
    "if FULL_DATASET == True:\n",
    "    stocks_PATH = os.path.join(PICKLES, \"performance_labeled_updated.pickle\")\n",
    "else:\n",
    "    stocks_PATH = os.path.join(PICKLES, \"toy_df.pickle\")\n",
    "       \n",
    "# if set to true all the documents will download, which will take several hours\n",
    "DOWNLOAD_FROM_SEC = False"
   ]
  },
  {
   "cell_type": "markdown",
   "id": "piano-output",
   "metadata": {},
   "source": [
    "<a id=\"NASDAQ\"></a>\n",
    "### NASDAQ 100 - Labeled Data\n",
    "\n",
    "Labeled quarterly / annual earnings / filings"
   ]
  },
  {
   "cell_type": "code",
   "execution_count": 15,
   "id": "guided-error",
   "metadata": {},
   "outputs": [
    {
     "ename": "FileNotFoundError",
     "evalue": "[Errno 2] No such file or directory: 'pickle_data/performance_labeled_updated.pickle'",
     "output_type": "error",
     "traceback": [
      "\u001b[0;31m---------------------------------------------------------------------------\u001b[0m",
      "\u001b[0;31mFileNotFoundError\u001b[0m                         Traceback (most recent call last)",
      "\u001b[0;32m<ipython-input-15-f6a3cdea0425>\u001b[0m in \u001b[0;36m<module>\u001b[0;34m\u001b[0m\n\u001b[0;32m----> 1\u001b[0;31m \u001b[0mstocks_df\u001b[0m \u001b[0;34m=\u001b[0m \u001b[0mpd\u001b[0m\u001b[0;34m.\u001b[0m\u001b[0mread_pickle\u001b[0m\u001b[0;34m(\u001b[0m\u001b[0mstocks_PATH\u001b[0m\u001b[0;34m)\u001b[0m\u001b[0;34m\u001b[0m\u001b[0;34m\u001b[0m\u001b[0m\n\u001b[0m",
      "\u001b[0;32m/opt/conda/lib/python3.8/site-packages/pandas/io/pickle.py\u001b[0m in \u001b[0;36mread_pickle\u001b[0;34m(filepath_or_buffer, compression, storage_options)\u001b[0m\n\u001b[1;32m    183\u001b[0m     \"\"\"\n\u001b[1;32m    184\u001b[0m     \u001b[0mexcs_to_catch\u001b[0m \u001b[0;34m=\u001b[0m \u001b[0;34m(\u001b[0m\u001b[0mAttributeError\u001b[0m\u001b[0;34m,\u001b[0m \u001b[0mImportError\u001b[0m\u001b[0;34m,\u001b[0m \u001b[0mModuleNotFoundError\u001b[0m\u001b[0;34m,\u001b[0m \u001b[0mTypeError\u001b[0m\u001b[0;34m)\u001b[0m\u001b[0;34m\u001b[0m\u001b[0;34m\u001b[0m\u001b[0m\n\u001b[0;32m--> 185\u001b[0;31m     with get_handle(\n\u001b[0m\u001b[1;32m    186\u001b[0m         \u001b[0mfilepath_or_buffer\u001b[0m\u001b[0;34m,\u001b[0m\u001b[0;34m\u001b[0m\u001b[0;34m\u001b[0m\u001b[0m\n\u001b[1;32m    187\u001b[0m         \u001b[0;34m\"rb\"\u001b[0m\u001b[0;34m,\u001b[0m\u001b[0;34m\u001b[0m\u001b[0;34m\u001b[0m\u001b[0m\n",
      "\u001b[0;32m/opt/conda/lib/python3.8/site-packages/pandas/io/common.py\u001b[0m in \u001b[0;36mget_handle\u001b[0;34m(path_or_buf, mode, encoding, compression, memory_map, is_text, errors, storage_options)\u001b[0m\n\u001b[1;32m    649\u001b[0m         \u001b[0;32melse\u001b[0m\u001b[0;34m:\u001b[0m\u001b[0;34m\u001b[0m\u001b[0;34m\u001b[0m\u001b[0m\n\u001b[1;32m    650\u001b[0m             \u001b[0;31m# Binary mode\u001b[0m\u001b[0;34m\u001b[0m\u001b[0;34m\u001b[0m\u001b[0;34m\u001b[0m\u001b[0m\n\u001b[0;32m--> 651\u001b[0;31m             \u001b[0mhandle\u001b[0m \u001b[0;34m=\u001b[0m \u001b[0mopen\u001b[0m\u001b[0;34m(\u001b[0m\u001b[0mhandle\u001b[0m\u001b[0;34m,\u001b[0m \u001b[0mioargs\u001b[0m\u001b[0;34m.\u001b[0m\u001b[0mmode\u001b[0m\u001b[0;34m)\u001b[0m\u001b[0;34m\u001b[0m\u001b[0;34m\u001b[0m\u001b[0m\n\u001b[0m\u001b[1;32m    652\u001b[0m         \u001b[0mhandles\u001b[0m\u001b[0;34m.\u001b[0m\u001b[0mappend\u001b[0m\u001b[0;34m(\u001b[0m\u001b[0mhandle\u001b[0m\u001b[0;34m)\u001b[0m\u001b[0;34m\u001b[0m\u001b[0;34m\u001b[0m\u001b[0m\n\u001b[1;32m    653\u001b[0m \u001b[0;34m\u001b[0m\u001b[0m\n",
      "\u001b[0;31mFileNotFoundError\u001b[0m: [Errno 2] No such file or directory: 'pickle_data/performance_labeled_updated.pickle'"
     ]
    }
   ],
   "source": [
    "stocks_df = pd.read_pickle(stocks_PATH)"
   ]
  },
  {
   "cell_type": "code",
   "execution_count": 16,
   "id": "organized-commodity",
   "metadata": {},
   "outputs": [
    {
     "name": "stdout",
     "output_type": "stream",
     "text": [
      "<class 'pandas.core.frame.DataFrame'>\n",
      "RangeIndex: 1620 entries, 0 to 1619\n",
      "Data columns (total 13 columns):\n",
      " #   Column                Non-Null Count  Dtype         \n",
      "---  ------                --------------  -----         \n",
      " 0   ticker                1620 non-null   object        \n",
      " 1   cik                   1620 non-null   int32         \n",
      " 2   FiscalQuarter End     1620 non-null   object        \n",
      " 3   DateReported          1620 non-null   datetime64[ns]\n",
      " 4   Time                  1620 non-null   category      \n",
      " 5   open                  1620 non-null   datetime64[ns]\n",
      " 6   close                 1620 non-null   datetime64[ns]\n",
      " 7   performance_earnings  1620 non-null   int64         \n",
      " 8   form                  1620 non-null   object        \n",
      " 9   filing                1620 non-null   object        \n",
      " 10  date_filed            1620 non-null   datetime64[ns]\n",
      " 11  open_2                1620 non-null   datetime64[ns]\n",
      " 12  performance_filing    1620 non-null   int64         \n",
      "dtypes: category(1), datetime64[ns](5), int32(1), int64(2), object(4)\n",
      "memory usage: 147.3+ KB\n"
     ]
    }
   ],
   "source": [
    "stocks_df.info()"
   ]
  },
  {
   "cell_type": "markdown",
   "id": "meaningful-notification",
   "metadata": {},
   "source": [
    "<div class=\"alert alert-info\">\n",
    "    <b>FOR LATER:</b><br>\n",
    "Add a test to see if the file already exists!"
   ]
  },
  {
   "cell_type": "code",
   "execution_count": 17,
   "id": "daily-carol",
   "metadata": {},
   "outputs": [],
   "source": [
    "# temp = stocks_df[(stocks_df['ticker'] == 'NVDA') ]\n",
    "# for i, r in temp.iterrows():\n",
    "#     print(r['form'][:4])"
   ]
  },
  {
   "cell_type": "code",
   "execution_count": 18,
   "id": "toxic-enough",
   "metadata": {},
   "outputs": [],
   "source": [
    "today = str(dt.datetime.today()).split(' ')[0]\n",
    "doc_output_path = os.path.join(DATA, \"sec-edgar-filings\")\n",
    "if not os.path.isdir(doc_output_path):\n",
    "    os.system(f'mkdir {doc_output_path}')\n",
    "    print('output path created: ', doc_output_path)"
   ]
  },
  {
   "cell_type": "code",
   "execution_count": 20,
   "id": "alien-poster",
   "metadata": {},
   "outputs": [],
   "source": [
    "dl = Downloader(DATA)\n",
    "download_error_log = []\n",
    "\n",
    "if DOWNLOAD_FROM_SEC == True:\n",
    "    for i, r in stocks_df.iterrows():\n",
    "        try:\n",
    "            dl.get(filing = r['form'], \n",
    "                   ticker_or_cik = r['ticker'], \n",
    "                   after = (r['DateReported']-dt.timedelta(1)).strftime(\"%Y-%m-%d\"), \n",
    "                   before = (r['open_2']+dt.timedelta(1)).strftime(\"%Y-%m-%d\"))\n",
    "        except:\n",
    "            download_error_log.append(str(r['ticker']) + \" \" +str(r['form']) +\" \"+ str( r['DateReported']) +\" failed\")\n",
    "\n",
    "file_path = os.path.join(DATA, 'sec-edgar-filings')\n",
    "        \n",
    "# for path in os.listdir(files):\n",
    "#     if os.path.isdir(os.path.join(files,path)):\n",
    "#         for ciks in os.listdir(os.path.join(files,path)):\n",
    "#             if os.path.isdir(os.path.join(files,path, ciks)): \n",
    "#                 print(ciks)\n",
    "#                 if ciks.endswith(\".txt\"):\n",
    "#                     print(ciks)\n",
    "                    \n",
    "# for root, subdirs, files in os.walk(file_path):\n",
    "#     print(root, subdirs, files)"
   ]
  },
  {
   "cell_type": "code",
   "execution_count": 21,
   "id": "aggregate-mumbai",
   "metadata": {},
   "outputs": [],
   "source": [
    "for error in download_error_log:\n",
    "    print(error)"
   ]
  },
  {
   "cell_type": "code",
   "execution_count": null,
   "id": "vietnamese-concentrate",
   "metadata": {},
   "outputs": [],
   "source": [
    "# EBAY 10-K/A 2020-04-29 00:00:00 failed\n",
    "# FB 10-K/A 2016-04-27 00:00:00 failed\n",
    "# INCY 10-Q/A 2017-02-14 00:00:00 failed\n",
    "# SRCL 10-Q/A 2016-07-28 00:00:00 failed\n",
    "# SWKS 10-K/A 2017-01-19 00:00:00 failed\n",
    "# SWKS 10-K/A 2016-01-28 00:00:00 failed\n",
    "# NVDA 10-Q 2018-08-16 00:00:00 failed\n"
   ]
  },
  {
   "cell_type": "markdown",
   "id": "posted-answer",
   "metadata": {},
   "source": [
    "                    ------------------end---------------"
   ]
  }
 ],
 "metadata": {
  "kernelspec": {
   "display_name": "Python 3",
   "language": "python",
   "name": "python3"
  },
  "language_info": {
   "codemirror_mode": {
    "name": "ipython",
    "version": 3
   },
   "file_extension": ".py",
   "mimetype": "text/x-python",
   "name": "python",
   "nbconvert_exporter": "python",
   "pygments_lexer": "ipython3",
   "version": "3.8.8"
  }
 },
 "nbformat": 4,
 "nbformat_minor": 5
}
